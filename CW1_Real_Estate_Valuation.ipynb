{
 "cells": [
  {
   "cell_type": "markdown",
   "id": "70236ecb",
   "metadata": {},
   "source": [
    "# Real Estate Valuation Data Set\n",
    "\n",
    "https://archive-beta.ics.uci.edu/ml/datasets/real+estate+valuation+data+set\n",
    "\n",
    "The inputs are as follows <br>\n",
    "<b>X1= </b> the transaction date (for example, 2013.250=2013 March, 2013.500=2013 June, etc.)<br>\n",
    "<b>X2= </b> the house age (unit: year) <br>\n",
    "<b>X3=</b> the distance to the nearest MRT station (unit: meter) <br>\n",
    "<b>X4=</b> the number of convenience stores in the living circle on foot (integer) <br>\n",
    "<b>X5=</b> the geographic coordinate, latitude. (unit: degree)<br>\n",
    "<b>X6=</b> the geographic coordinate, longitude. (unit: degree)<br>\n",
    "<b>Y=</b> house price of unit area (10000 New Taiwan Dollar/Ping, where Ping is a local unit, 1 Ping = 3.3 meter squared)\n",
    "\n",
    "\n",
    "<b> DELETE THIS https://www.datacamp.com/community/tutorials/tutorial-learning-curves</b>"
   ]
  },
  {
   "cell_type": "markdown",
   "id": "0ddce6cd",
   "metadata": {},
   "source": [
    "## House value prediction\n",
    "<b>Problem Definition:</b> Predicting the house price <br>\n",
    "<b>Data:</b> Structured, historical data of real estate valuation collected from Sindian Dist., New Taipei City, Taiwan <br>\n",
    "<b>Evaluation:</b> Minimise how different the number the model predicts to the sale price.\n",
    "- Mean Absolute Error (MAE)\n",
    "- Mean Squared Error (MSE)\n",
    "- Root Mean Squared Error (RMSE)<br>\n",
    "\n",
    "<b>Features:</b>\n",
    "\n",
    "\n",
    "## Pipeline\n",
    "- Getting data ready <br>\n",
    "- Choose the right estimator/algorithm for our problems\n",
    "- Fit the model/algorith and use it to make predictions on our data\n",
    "- Evaluating a mode\n",
    "- Improving a model\n",
    "- Save and load a trained model\n",
    "- Putting it all together"
   ]
  },
  {
   "cell_type": "markdown",
   "id": "9f8314c2",
   "metadata": {},
   "source": [
    "#### Importing relevant libraries"
   ]
  },
  {
   "cell_type": "code",
   "execution_count": 1,
   "id": "f7c39fb4",
   "metadata": {},
   "outputs": [],
   "source": [
    "import pandas as pd\n",
    "import numpy as np\n",
    "import matplotlib.pyplot as plt\n",
    "import seaborn as sns"
   ]
  },
  {
   "cell_type": "markdown",
   "id": "c01d345f",
   "metadata": {},
   "source": [
    "#### Loading the data"
   ]
  },
  {
   "cell_type": "code",
   "execution_count": 2,
   "id": "e0e52a2d",
   "metadata": {
    "scrolled": true
   },
   "outputs": [
    {
     "data": {
      "text/html": [
       "<div>\n",
       "<style scoped>\n",
       "    .dataframe tbody tr th:only-of-type {\n",
       "        vertical-align: middle;\n",
       "    }\n",
       "\n",
       "    .dataframe tbody tr th {\n",
       "        vertical-align: top;\n",
       "    }\n",
       "\n",
       "    .dataframe thead th {\n",
       "        text-align: right;\n",
       "    }\n",
       "</style>\n",
       "<table border=\"1\" class=\"dataframe\">\n",
       "  <thead>\n",
       "    <tr style=\"text-align: right;\">\n",
       "      <th></th>\n",
       "      <th>No</th>\n",
       "      <th>X1 transaction date</th>\n",
       "      <th>X2 house age</th>\n",
       "      <th>X3 distance to the nearest MRT station</th>\n",
       "      <th>X4 number of convenience stores</th>\n",
       "      <th>X5 latitude</th>\n",
       "      <th>X6 longitude</th>\n",
       "      <th>Y house price of unit area</th>\n",
       "    </tr>\n",
       "  </thead>\n",
       "  <tbody>\n",
       "    <tr>\n",
       "      <th>0</th>\n",
       "      <td>1</td>\n",
       "      <td>2012.916667</td>\n",
       "      <td>32.0</td>\n",
       "      <td>84.87882</td>\n",
       "      <td>10</td>\n",
       "      <td>24.98298</td>\n",
       "      <td>121.54024</td>\n",
       "      <td>37.9</td>\n",
       "    </tr>\n",
       "    <tr>\n",
       "      <th>1</th>\n",
       "      <td>2</td>\n",
       "      <td>2012.916667</td>\n",
       "      <td>19.5</td>\n",
       "      <td>306.59470</td>\n",
       "      <td>9</td>\n",
       "      <td>24.98034</td>\n",
       "      <td>121.53951</td>\n",
       "      <td>42.2</td>\n",
       "    </tr>\n",
       "    <tr>\n",
       "      <th>2</th>\n",
       "      <td>3</td>\n",
       "      <td>2013.583333</td>\n",
       "      <td>13.3</td>\n",
       "      <td>561.98450</td>\n",
       "      <td>5</td>\n",
       "      <td>24.98746</td>\n",
       "      <td>121.54391</td>\n",
       "      <td>47.3</td>\n",
       "    </tr>\n",
       "    <tr>\n",
       "      <th>3</th>\n",
       "      <td>4</td>\n",
       "      <td>2013.500000</td>\n",
       "      <td>13.3</td>\n",
       "      <td>561.98450</td>\n",
       "      <td>5</td>\n",
       "      <td>24.98746</td>\n",
       "      <td>121.54391</td>\n",
       "      <td>54.8</td>\n",
       "    </tr>\n",
       "    <tr>\n",
       "      <th>4</th>\n",
       "      <td>5</td>\n",
       "      <td>2012.833333</td>\n",
       "      <td>5.0</td>\n",
       "      <td>390.56840</td>\n",
       "      <td>5</td>\n",
       "      <td>24.97937</td>\n",
       "      <td>121.54245</td>\n",
       "      <td>43.1</td>\n",
       "    </tr>\n",
       "  </tbody>\n",
       "</table>\n",
       "</div>"
      ],
      "text/plain": [
       "   No  X1 transaction date  X2 house age  \\\n",
       "0   1          2012.916667          32.0   \n",
       "1   2          2012.916667          19.5   \n",
       "2   3          2013.583333          13.3   \n",
       "3   4          2013.500000          13.3   \n",
       "4   5          2012.833333           5.0   \n",
       "\n",
       "   X3 distance to the nearest MRT station  X4 number of convenience stores  \\\n",
       "0                                84.87882                               10   \n",
       "1                               306.59470                                9   \n",
       "2                               561.98450                                5   \n",
       "3                               561.98450                                5   \n",
       "4                               390.56840                                5   \n",
       "\n",
       "   X5 latitude  X6 longitude  Y house price of unit area  \n",
       "0     24.98298     121.54024                        37.9  \n",
       "1     24.98034     121.53951                        42.2  \n",
       "2     24.98746     121.54391                        47.3  \n",
       "3     24.98746     121.54391                        54.8  \n",
       "4     24.97937     121.54245                        43.1  "
      ]
     },
     "execution_count": 2,
     "metadata": {},
     "output_type": "execute_result"
    }
   ],
   "source": [
    "df = pd.read_excel('real_estate_valuation.xlsx')\n",
    "df = pd.DataFrame(df)\n",
    "# previewing the firs 5 rows\n",
    "df.head()"
   ]
  },
  {
   "cell_type": "code",
   "execution_count": 3,
   "id": "ed26ceae",
   "metadata": {},
   "outputs": [
    {
     "data": {
      "text/html": [
       "<div>\n",
       "<style scoped>\n",
       "    .dataframe tbody tr th:only-of-type {\n",
       "        vertical-align: middle;\n",
       "    }\n",
       "\n",
       "    .dataframe tbody tr th {\n",
       "        vertical-align: top;\n",
       "    }\n",
       "\n",
       "    .dataframe thead th {\n",
       "        text-align: right;\n",
       "    }\n",
       "</style>\n",
       "<table border=\"1\" class=\"dataframe\">\n",
       "  <thead>\n",
       "    <tr style=\"text-align: right;\">\n",
       "      <th></th>\n",
       "      <th>No</th>\n",
       "      <th>X1 transaction date</th>\n",
       "      <th>X2 house age</th>\n",
       "      <th>X3 distance to the nearest MRT station</th>\n",
       "      <th>X4 number of convenience stores</th>\n",
       "      <th>X5 latitude</th>\n",
       "      <th>X6 longitude</th>\n",
       "      <th>Y house price of unit area</th>\n",
       "    </tr>\n",
       "  </thead>\n",
       "  <tbody>\n",
       "    <tr>\n",
       "      <th>409</th>\n",
       "      <td>410</td>\n",
       "      <td>2013.000000</td>\n",
       "      <td>13.7</td>\n",
       "      <td>4082.01500</td>\n",
       "      <td>0</td>\n",
       "      <td>24.94155</td>\n",
       "      <td>121.50381</td>\n",
       "      <td>15.4</td>\n",
       "    </tr>\n",
       "    <tr>\n",
       "      <th>410</th>\n",
       "      <td>411</td>\n",
       "      <td>2012.666667</td>\n",
       "      <td>5.6</td>\n",
       "      <td>90.45606</td>\n",
       "      <td>9</td>\n",
       "      <td>24.97433</td>\n",
       "      <td>121.54310</td>\n",
       "      <td>50.0</td>\n",
       "    </tr>\n",
       "    <tr>\n",
       "      <th>411</th>\n",
       "      <td>412</td>\n",
       "      <td>2013.250000</td>\n",
       "      <td>18.8</td>\n",
       "      <td>390.96960</td>\n",
       "      <td>7</td>\n",
       "      <td>24.97923</td>\n",
       "      <td>121.53986</td>\n",
       "      <td>40.6</td>\n",
       "    </tr>\n",
       "    <tr>\n",
       "      <th>412</th>\n",
       "      <td>413</td>\n",
       "      <td>2013.000000</td>\n",
       "      <td>8.1</td>\n",
       "      <td>104.81010</td>\n",
       "      <td>5</td>\n",
       "      <td>24.96674</td>\n",
       "      <td>121.54067</td>\n",
       "      <td>52.5</td>\n",
       "    </tr>\n",
       "    <tr>\n",
       "      <th>413</th>\n",
       "      <td>414</td>\n",
       "      <td>2013.500000</td>\n",
       "      <td>6.5</td>\n",
       "      <td>90.45606</td>\n",
       "      <td>9</td>\n",
       "      <td>24.97433</td>\n",
       "      <td>121.54310</td>\n",
       "      <td>63.9</td>\n",
       "    </tr>\n",
       "  </tbody>\n",
       "</table>\n",
       "</div>"
      ],
      "text/plain": [
       "      No  X1 transaction date  X2 house age  \\\n",
       "409  410          2013.000000          13.7   \n",
       "410  411          2012.666667           5.6   \n",
       "411  412          2013.250000          18.8   \n",
       "412  413          2013.000000           8.1   \n",
       "413  414          2013.500000           6.5   \n",
       "\n",
       "     X3 distance to the nearest MRT station  X4 number of convenience stores  \\\n",
       "409                              4082.01500                                0   \n",
       "410                                90.45606                                9   \n",
       "411                               390.96960                                7   \n",
       "412                               104.81010                                5   \n",
       "413                                90.45606                                9   \n",
       "\n",
       "     X5 latitude  X6 longitude  Y house price of unit area  \n",
       "409     24.94155     121.50381                        15.4  \n",
       "410     24.97433     121.54310                        50.0  \n",
       "411     24.97923     121.53986                        40.6  \n",
       "412     24.96674     121.54067                        52.5  \n",
       "413     24.97433     121.54310                        63.9  "
      ]
     },
     "execution_count": 3,
     "metadata": {},
     "output_type": "execute_result"
    }
   ],
   "source": [
    "# previewing the last 5 rows\n",
    "df.tail()"
   ]
  },
  {
   "cell_type": "code",
   "execution_count": 4,
   "id": "d23713c0",
   "metadata": {},
   "outputs": [
    {
     "data": {
      "text/plain": [
       "414"
      ]
     },
     "execution_count": 4,
     "metadata": {},
     "output_type": "execute_result"
    }
   ],
   "source": [
    "# preview the number of observations\n",
    "df.shape[0]"
   ]
  },
  {
   "cell_type": "code",
   "execution_count": 5,
   "id": "bf378ce6",
   "metadata": {},
   "outputs": [
    {
     "data": {
      "text/plain": [
       "8"
      ]
     },
     "execution_count": 5,
     "metadata": {},
     "output_type": "execute_result"
    }
   ],
   "source": [
    "# preview the number of attributes\n",
    "df.shape[1]"
   ]
  },
  {
   "cell_type": "code",
   "execution_count": 6,
   "id": "20c6f72b",
   "metadata": {},
   "outputs": [
    {
     "data": {
      "text/plain": [
       "Index(['No', 'X1 transaction date', 'X2 house age',\n",
       "       'X3 distance to the nearest MRT station',\n",
       "       'X4 number of convenience stores', 'X5 latitude', 'X6 longitude',\n",
       "       'Y house price of unit area'],\n",
       "      dtype='object')"
      ]
     },
     "execution_count": 6,
     "metadata": {},
     "output_type": "execute_result"
    }
   ],
   "source": [
    "# preview the column names\n",
    "df.columns"
   ]
  },
  {
   "cell_type": "code",
   "execution_count": 7,
   "id": "743dda69",
   "metadata": {
    "scrolled": true
   },
   "outputs": [
    {
     "data": {
      "text/plain": [
       "No                                        0\n",
       "X1 transaction date                       0\n",
       "X2 house age                              0\n",
       "X3 distance to the nearest MRT station    0\n",
       "X4 number of convenience stores           0\n",
       "X5 latitude                               0\n",
       "X6 longitude                              0\n",
       "Y house price of unit area                0\n",
       "dtype: int64"
      ]
     },
     "execution_count": 7,
     "metadata": {},
     "output_type": "execute_result"
    }
   ],
   "source": [
    "# checking for missing values\n",
    "df.isna().sum()"
   ]
  },
  {
   "cell_type": "code",
   "execution_count": 8,
   "id": "bf2b0d3b",
   "metadata": {},
   "outputs": [],
   "source": [
    "# No missing values within this dataset, no imputer required."
   ]
  },
  {
   "cell_type": "code",
   "execution_count": 9,
   "id": "d69d9dbf",
   "metadata": {},
   "outputs": [
    {
     "data": {
      "text/plain": [
       "No                                          int64\n",
       "X1 transaction date                       float64\n",
       "X2 house age                              float64\n",
       "X3 distance to the nearest MRT station    float64\n",
       "X4 number of convenience stores             int64\n",
       "X5 latitude                               float64\n",
       "X6 longitude                              float64\n",
       "Y house price of unit area                float64\n",
       "dtype: object"
      ]
     },
     "execution_count": 9,
     "metadata": {},
     "output_type": "execute_result"
    }
   ],
   "source": [
    "# checking the datatypes of each column\n",
    "df.dtypes"
   ]
  },
  {
   "cell_type": "code",
   "execution_count": 10,
   "id": "05c74e94",
   "metadata": {
    "scrolled": false
   },
   "outputs": [
    {
     "data": {
      "text/html": [
       "<div>\n",
       "<style scoped>\n",
       "    .dataframe tbody tr th:only-of-type {\n",
       "        vertical-align: middle;\n",
       "    }\n",
       "\n",
       "    .dataframe tbody tr th {\n",
       "        vertical-align: top;\n",
       "    }\n",
       "\n",
       "    .dataframe thead th {\n",
       "        text-align: right;\n",
       "    }\n",
       "</style>\n",
       "<table border=\"1\" class=\"dataframe\">\n",
       "  <thead>\n",
       "    <tr style=\"text-align: right;\">\n",
       "      <th></th>\n",
       "      <th>No</th>\n",
       "      <th>X1 transaction date</th>\n",
       "      <th>X2 house age</th>\n",
       "      <th>X3 distance to the nearest MRT station</th>\n",
       "      <th>X4 number of convenience stores</th>\n",
       "      <th>X5 latitude</th>\n",
       "      <th>X6 longitude</th>\n",
       "      <th>Y house price of unit area</th>\n",
       "    </tr>\n",
       "  </thead>\n",
       "  <tbody>\n",
       "    <tr>\n",
       "      <th>count</th>\n",
       "      <td>414.000000</td>\n",
       "      <td>414.000000</td>\n",
       "      <td>414.000000</td>\n",
       "      <td>414.000000</td>\n",
       "      <td>414.000000</td>\n",
       "      <td>414.000000</td>\n",
       "      <td>414.000000</td>\n",
       "      <td>414.000000</td>\n",
       "    </tr>\n",
       "    <tr>\n",
       "      <th>mean</th>\n",
       "      <td>207.500000</td>\n",
       "      <td>2013.148953</td>\n",
       "      <td>17.712560</td>\n",
       "      <td>1083.885689</td>\n",
       "      <td>4.094203</td>\n",
       "      <td>24.969030</td>\n",
       "      <td>121.533361</td>\n",
       "      <td>37.980193</td>\n",
       "    </tr>\n",
       "    <tr>\n",
       "      <th>std</th>\n",
       "      <td>119.655756</td>\n",
       "      <td>0.281995</td>\n",
       "      <td>11.392485</td>\n",
       "      <td>1262.109595</td>\n",
       "      <td>2.945562</td>\n",
       "      <td>0.012410</td>\n",
       "      <td>0.015347</td>\n",
       "      <td>13.606488</td>\n",
       "    </tr>\n",
       "    <tr>\n",
       "      <th>min</th>\n",
       "      <td>1.000000</td>\n",
       "      <td>2012.666667</td>\n",
       "      <td>0.000000</td>\n",
       "      <td>23.382840</td>\n",
       "      <td>0.000000</td>\n",
       "      <td>24.932070</td>\n",
       "      <td>121.473530</td>\n",
       "      <td>7.600000</td>\n",
       "    </tr>\n",
       "    <tr>\n",
       "      <th>25%</th>\n",
       "      <td>104.250000</td>\n",
       "      <td>2012.916667</td>\n",
       "      <td>9.025000</td>\n",
       "      <td>289.324800</td>\n",
       "      <td>1.000000</td>\n",
       "      <td>24.963000</td>\n",
       "      <td>121.528085</td>\n",
       "      <td>27.700000</td>\n",
       "    </tr>\n",
       "    <tr>\n",
       "      <th>50%</th>\n",
       "      <td>207.500000</td>\n",
       "      <td>2013.166667</td>\n",
       "      <td>16.100000</td>\n",
       "      <td>492.231300</td>\n",
       "      <td>4.000000</td>\n",
       "      <td>24.971100</td>\n",
       "      <td>121.538630</td>\n",
       "      <td>38.450000</td>\n",
       "    </tr>\n",
       "    <tr>\n",
       "      <th>75%</th>\n",
       "      <td>310.750000</td>\n",
       "      <td>2013.416667</td>\n",
       "      <td>28.150000</td>\n",
       "      <td>1454.279000</td>\n",
       "      <td>6.000000</td>\n",
       "      <td>24.977455</td>\n",
       "      <td>121.543305</td>\n",
       "      <td>46.600000</td>\n",
       "    </tr>\n",
       "    <tr>\n",
       "      <th>max</th>\n",
       "      <td>414.000000</td>\n",
       "      <td>2013.583333</td>\n",
       "      <td>43.800000</td>\n",
       "      <td>6488.021000</td>\n",
       "      <td>10.000000</td>\n",
       "      <td>25.014590</td>\n",
       "      <td>121.566270</td>\n",
       "      <td>117.500000</td>\n",
       "    </tr>\n",
       "  </tbody>\n",
       "</table>\n",
       "</div>"
      ],
      "text/plain": [
       "               No  X1 transaction date  X2 house age  \\\n",
       "count  414.000000           414.000000    414.000000   \n",
       "mean   207.500000          2013.148953     17.712560   \n",
       "std    119.655756             0.281995     11.392485   \n",
       "min      1.000000          2012.666667      0.000000   \n",
       "25%    104.250000          2012.916667      9.025000   \n",
       "50%    207.500000          2013.166667     16.100000   \n",
       "75%    310.750000          2013.416667     28.150000   \n",
       "max    414.000000          2013.583333     43.800000   \n",
       "\n",
       "       X3 distance to the nearest MRT station  \\\n",
       "count                              414.000000   \n",
       "mean                              1083.885689   \n",
       "std                               1262.109595   \n",
       "min                                 23.382840   \n",
       "25%                                289.324800   \n",
       "50%                                492.231300   \n",
       "75%                               1454.279000   \n",
       "max                               6488.021000   \n",
       "\n",
       "       X4 number of convenience stores  X5 latitude  X6 longitude  \\\n",
       "count                       414.000000   414.000000    414.000000   \n",
       "mean                          4.094203    24.969030    121.533361   \n",
       "std                           2.945562     0.012410      0.015347   \n",
       "min                           0.000000    24.932070    121.473530   \n",
       "25%                           1.000000    24.963000    121.528085   \n",
       "50%                           4.000000    24.971100    121.538630   \n",
       "75%                           6.000000    24.977455    121.543305   \n",
       "max                          10.000000    25.014590    121.566270   \n",
       "\n",
       "       Y house price of unit area  \n",
       "count                  414.000000  \n",
       "mean                    37.980193  \n",
       "std                     13.606488  \n",
       "min                      7.600000  \n",
       "25%                     27.700000  \n",
       "50%                     38.450000  \n",
       "75%                     46.600000  \n",
       "max                    117.500000  "
      ]
     },
     "execution_count": 10,
     "metadata": {},
     "output_type": "execute_result"
    }
   ],
   "source": [
    "# Summarising the dataframe\n",
    "df.describe()"
   ]
  },
  {
   "cell_type": "markdown",
   "id": "cd3bf0d0",
   "metadata": {},
   "source": [
    "#### Cleaning the data"
   ]
  },
  {
   "cell_type": "code",
   "execution_count": 11,
   "id": "a116cc22",
   "metadata": {},
   "outputs": [],
   "source": [
    "# removing irrelvant column\n",
    "df.drop(columns = 'No', inplace = True)"
   ]
  },
  {
   "cell_type": "code",
   "execution_count": 12,
   "id": "2d746a62",
   "metadata": {},
   "outputs": [
    {
     "data": {
      "text/plain": [
       "Index(['X1 transaction date', 'X2 house age',\n",
       "       'X3 distance to the nearest MRT station',\n",
       "       'X4 number of convenience stores', 'X5 latitude', 'X6 longitude',\n",
       "       'Y house price of unit area'],\n",
       "      dtype='object')"
      ]
     },
     "execution_count": 12,
     "metadata": {},
     "output_type": "execute_result"
    }
   ],
   "source": [
    "# check if column has been successfully removed\n",
    "df.columns"
   ]
  },
  {
   "cell_type": "code",
   "execution_count": 13,
   "id": "6263811a",
   "metadata": {},
   "outputs": [],
   "source": [
    "# cleaning the column names\n",
    "df.rename(columns = {'X1 transaction date': 'transaction_date',\n",
    "                     'X2 house age': 'house_age',\n",
    "                     'X3 distance to the nearest MRT station':'mrt_distance',\n",
    "                     'X4 number of convenience stores':'no_of_stores',\n",
    "                     'X5 latitude': 'latitude',\n",
    "                     'X6 longitude': 'longitude',\n",
    "                     'Y house price of unit area':'house_price'},inplace = True)"
   ]
  },
  {
   "cell_type": "code",
   "execution_count": 14,
   "id": "6c8c763a",
   "metadata": {
    "scrolled": true
   },
   "outputs": [],
   "source": [
    "# rounding the mrt_distance\n",
    "df.mrt_distance = df.mrt_distance.round(2)"
   ]
  },
  {
   "cell_type": "code",
   "execution_count": 15,
   "id": "8ff76ac6",
   "metadata": {},
   "outputs": [],
   "source": [
    "# converting house price per unit area into New Taiwanese Dollars (TWD)\n",
    "df.house_price = round(df.house_price * 10000)"
   ]
  },
  {
   "cell_type": "code",
   "execution_count": 16,
   "id": "33dcae24",
   "metadata": {
    "scrolled": false
   },
   "outputs": [
    {
     "data": {
      "text/html": [
       "<div>\n",
       "<style scoped>\n",
       "    .dataframe tbody tr th:only-of-type {\n",
       "        vertical-align: middle;\n",
       "    }\n",
       "\n",
       "    .dataframe tbody tr th {\n",
       "        vertical-align: top;\n",
       "    }\n",
       "\n",
       "    .dataframe thead th {\n",
       "        text-align: right;\n",
       "    }\n",
       "</style>\n",
       "<table border=\"1\" class=\"dataframe\">\n",
       "  <thead>\n",
       "    <tr style=\"text-align: right;\">\n",
       "      <th></th>\n",
       "      <th>transaction_date</th>\n",
       "      <th>house_age</th>\n",
       "      <th>mrt_distance</th>\n",
       "      <th>no_of_stores</th>\n",
       "      <th>latitude</th>\n",
       "      <th>longitude</th>\n",
       "      <th>house_price</th>\n",
       "    </tr>\n",
       "  </thead>\n",
       "  <tbody>\n",
       "    <tr>\n",
       "      <th>0</th>\n",
       "      <td>2012.916667</td>\n",
       "      <td>32.0</td>\n",
       "      <td>84.88</td>\n",
       "      <td>10</td>\n",
       "      <td>24.98298</td>\n",
       "      <td>121.54024</td>\n",
       "      <td>379000.0</td>\n",
       "    </tr>\n",
       "    <tr>\n",
       "      <th>1</th>\n",
       "      <td>2012.916667</td>\n",
       "      <td>19.5</td>\n",
       "      <td>306.59</td>\n",
       "      <td>9</td>\n",
       "      <td>24.98034</td>\n",
       "      <td>121.53951</td>\n",
       "      <td>422000.0</td>\n",
       "    </tr>\n",
       "    <tr>\n",
       "      <th>2</th>\n",
       "      <td>2013.583333</td>\n",
       "      <td>13.3</td>\n",
       "      <td>561.98</td>\n",
       "      <td>5</td>\n",
       "      <td>24.98746</td>\n",
       "      <td>121.54391</td>\n",
       "      <td>473000.0</td>\n",
       "    </tr>\n",
       "    <tr>\n",
       "      <th>3</th>\n",
       "      <td>2013.500000</td>\n",
       "      <td>13.3</td>\n",
       "      <td>561.98</td>\n",
       "      <td>5</td>\n",
       "      <td>24.98746</td>\n",
       "      <td>121.54391</td>\n",
       "      <td>548000.0</td>\n",
       "    </tr>\n",
       "    <tr>\n",
       "      <th>4</th>\n",
       "      <td>2012.833333</td>\n",
       "      <td>5.0</td>\n",
       "      <td>390.57</td>\n",
       "      <td>5</td>\n",
       "      <td>24.97937</td>\n",
       "      <td>121.54245</td>\n",
       "      <td>431000.0</td>\n",
       "    </tr>\n",
       "  </tbody>\n",
       "</table>\n",
       "</div>"
      ],
      "text/plain": [
       "   transaction_date  house_age  mrt_distance  no_of_stores  latitude  \\\n",
       "0       2012.916667       32.0         84.88            10  24.98298   \n",
       "1       2012.916667       19.5        306.59             9  24.98034   \n",
       "2       2013.583333       13.3        561.98             5  24.98746   \n",
       "3       2013.500000       13.3        561.98             5  24.98746   \n",
       "4       2012.833333        5.0        390.57             5  24.97937   \n",
       "\n",
       "   longitude  house_price  \n",
       "0  121.54024     379000.0  \n",
       "1  121.53951     422000.0  \n",
       "2  121.54391     473000.0  \n",
       "3  121.54391     548000.0  \n",
       "4  121.54245     431000.0  "
      ]
     },
     "execution_count": 16,
     "metadata": {},
     "output_type": "execute_result"
    }
   ],
   "source": [
    "df.head()"
   ]
  },
  {
   "cell_type": "code",
   "execution_count": 17,
   "id": "8e299f01",
   "metadata": {},
   "outputs": [],
   "source": [
    "# here I wanted to convert the transaction_date to a datetime format that is human legible,\n",
    "# however I could not find the correct format, so I decided to go with just the year instead\n",
    "# df.transaction_date = str(df.transaction_date) ------------------------------------------------------"
   ]
  },
  {
   "cell_type": "markdown",
   "id": "1105da90",
   "metadata": {},
   "source": [
    "#### Preliminary Analysis"
   ]
  },
  {
   "cell_type": "code",
   "execution_count": 18,
   "id": "4d5ba272",
   "metadata": {},
   "outputs": [
    {
     "name": "stdout",
     "output_type": "stream",
     "text": [
      "The lowest house price is 76000.0 TWD\n"
     ]
    }
   ],
   "source": [
    "# What's the lowest house price\n",
    "print(\"The lowest house price is\", df.house_price.min(), \"TWD\")"
   ]
  },
  {
   "cell_type": "code",
   "execution_count": 19,
   "id": "b4bd37ec",
   "metadata": {},
   "outputs": [
    {
     "name": "stdout",
     "output_type": "stream",
     "text": [
      "The highest house price is 1175000.0 TWD\n"
     ]
    }
   ],
   "source": [
    "# What's the highest house price?\n",
    "print(\"The highest house price is\", df.house_price.max(), \"TWD\")"
   ]
  },
  {
   "cell_type": "code",
   "execution_count": 20,
   "id": "0f1b1c0e",
   "metadata": {},
   "outputs": [
    {
     "name": "stdout",
     "output_type": "stream",
     "text": [
      "The average house price is 379802 TWD\n"
     ]
    }
   ],
   "source": [
    "# What's the average house price?\n",
    "print(\"The average house price is\",round(df.house_price.mean()),\"TWD\")"
   ]
  },
  {
   "cell_type": "code",
   "execution_count": 21,
   "id": "55264abe",
   "metadata": {
    "scrolled": true
   },
   "outputs": [
    {
     "data": {
      "image/png": "[encoded data removed]",
      "text/plain": [
       "<Figure size 432x288 with 1 Axes>"
      ]
     },
     "metadata": {
      "needs_background": "light"
     },
     "output_type": "display_data"
    }
   ],
   "source": [
    "# Checking the distribution of the target variable (house_price)\n",
    "plt.hist(df[\"house_price\"], bins=25, color=\"#361163\")\n",
    "plt.xlabel(\"House price (TWD)\")\n",
    "plt.ylabel(\"Number of houses\")\n",
    "plt.title(\"Number of houses vs. House Price\")\n",
    "plt.ticklabel_format(style='plain')\n",
    "\n",
    "# Plotting the line for average house price (house_price)\n",
    "plt.axvline(df[\"house_price\"].mean(), color='#B70062', linestyle='dashed', linewidth=1)\n",
    "plt.show()\n",
    "\n",
    "# ===== ADD COMMA TO VALUES\n",
    "# ===== EXPAND THE TICKS?"
   ]
  },
  {
   "cell_type": "markdown",
   "id": "83fc9171",
   "metadata": {},
   "source": [
    "- This plot shows the house price (house_price) and the number of houses sold in the price range.\n",
    "- It is skewed right, where the right side is the highest house price sold, with only a one houses selling over 1,000,000TWD.\n",
    "- Most houses sold between 70,000TWD - 600,000TWD.\n",
    "- Around 15 houses' sale price was between 600,000TWD - 800,000TWD."
   ]
  },
  {
   "cell_type": "code",
   "execution_count": 22,
   "id": "b7531c35",
   "metadata": {},
   "outputs": [
    {
     "name": "stdout",
     "output_type": "stream",
     "text": [
      "The average distance to the nearest MRT station is 1083.89 meters\n"
     ]
    }
   ],
   "source": [
    "# What's the average distance to the nearest MRT station in meters?\n",
    "print(\"The average distance to the nearest MRT station is\",\n",
    "      round(df.mrt_distance.mean(),2),\n",
    "      \"meters\")"
   ]
  },
  {
   "cell_type": "code",
   "execution_count": 23,
   "id": "f8d68c7e",
   "metadata": {
    "scrolled": true
   },
   "outputs": [
    {
     "data": {
      "image/png": "[encoded data removed]",
      "text/plain": [
       "<Figure size 432x288 with 1 Axes>"
      ]
     },
     "metadata": {
      "needs_background": "light"
     },
     "output_type": "display_data"
    }
   ],
   "source": [
    "# Does the distance to the nearest MRT have an impact on the house price?\n",
    "mrt = df.mrt_distance\n",
    "house_price = df.house_price\n",
    "\n",
    "# Visualisation\n",
    "\n",
    "plt.scatter(mrt, house_price, color=\"#361163\")\n",
    "plt.ticklabel_format(style='plain')\n",
    "plt.title('Distance to the MRT vs. House Price')\n",
    "plt.xlabel('Distance to the nearest MRT (meters)')\n",
    "plt.ylabel('House Price in New Taiwan Dollar (TWD)')\n",
    "plt.show()\n",
    "\n",
    "# ====== ADD COMMA TO THE Y AXIS PRICE\n",
    "# ====== HIGHLIGHT THE OUTLIERS"
   ]
  },
  {
   "cell_type": "code",
   "execution_count": 24,
   "id": "4f146b7c",
   "metadata": {
    "scrolled": false
   },
   "outputs": [
    {
     "data": {
      "text/html": [
       "<div>\n",
       "<style scoped>\n",
       "    .dataframe tbody tr th:only-of-type {\n",
       "        vertical-align: middle;\n",
       "    }\n",
       "\n",
       "    .dataframe tbody tr th {\n",
       "        vertical-align: top;\n",
       "    }\n",
       "\n",
       "    .dataframe thead th {\n",
       "        text-align: right;\n",
       "    }\n",
       "</style>\n",
       "<table border=\"1\" class=\"dataframe\">\n",
       "  <thead>\n",
       "    <tr style=\"text-align: right;\">\n",
       "      <th></th>\n",
       "      <th>transaction_date</th>\n",
       "      <th>house_age</th>\n",
       "      <th>mrt_distance</th>\n",
       "      <th>no_of_stores</th>\n",
       "      <th>latitude</th>\n",
       "      <th>longitude</th>\n",
       "      <th>house_price</th>\n",
       "    </tr>\n",
       "  </thead>\n",
       "  <tbody>\n",
       "    <tr>\n",
       "      <th>270</th>\n",
       "      <td>2013.333333</td>\n",
       "      <td>10.8</td>\n",
       "      <td>252.58</td>\n",
       "      <td>1</td>\n",
       "      <td>24.9746</td>\n",
       "      <td>121.53046</td>\n",
       "      <td>1175000.0</td>\n",
       "    </tr>\n",
       "  </tbody>\n",
       "</table>\n",
       "</div>"
      ],
      "text/plain": [
       "     transaction_date  house_age  mrt_distance  no_of_stores  latitude  \\\n",
       "270       2013.333333       10.8        252.58             1   24.9746   \n",
       "\n",
       "     longitude  house_price  \n",
       "270  121.53046    1175000.0  "
      ]
     },
     "execution_count": 24,
     "metadata": {},
     "output_type": "execute_result"
    }
   ],
   "source": [
    "# Investigating outlier 1\n",
    "df[df['house_price'] == df.house_price.max()]"
   ]
  },
  {
   "cell_type": "code",
   "execution_count": 25,
   "id": "917a31f4",
   "metadata": {
    "scrolled": true
   },
   "outputs": [
    {
     "data": {
      "text/html": [
       "<div>\n",
       "<style scoped>\n",
       "    .dataframe tbody tr th:only-of-type {\n",
       "        vertical-align: middle;\n",
       "    }\n",
       "\n",
       "    .dataframe tbody tr th {\n",
       "        vertical-align: top;\n",
       "    }\n",
       "\n",
       "    .dataframe thead th {\n",
       "        text-align: right;\n",
       "    }\n",
       "</style>\n",
       "<table border=\"1\" class=\"dataframe\">\n",
       "  <thead>\n",
       "    <tr style=\"text-align: right;\">\n",
       "      <th></th>\n",
       "      <th>transaction_date</th>\n",
       "      <th>house_age</th>\n",
       "      <th>mrt_distance</th>\n",
       "      <th>no_of_stores</th>\n",
       "      <th>latitude</th>\n",
       "      <th>longitude</th>\n",
       "      <th>house_price</th>\n",
       "    </tr>\n",
       "  </thead>\n",
       "  <tbody>\n",
       "    <tr>\n",
       "      <th>113</th>\n",
       "      <td>2013.333333</td>\n",
       "      <td>14.8</td>\n",
       "      <td>393.26</td>\n",
       "      <td>6</td>\n",
       "      <td>24.96172</td>\n",
       "      <td>121.53812</td>\n",
       "      <td>76000.0</td>\n",
       "    </tr>\n",
       "  </tbody>\n",
       "</table>\n",
       "</div>"
      ],
      "text/plain": [
       "     transaction_date  house_age  mrt_distance  no_of_stores  latitude  \\\n",
       "113       2013.333333       14.8        393.26             6  24.96172   \n",
       "\n",
       "     longitude  house_price  \n",
       "113  121.53812      76000.0  "
      ]
     },
     "execution_count": 25,
     "metadata": {},
     "output_type": "execute_result"
    }
   ],
   "source": [
    "# Investigating outlier 2\n",
    "df[df['house_price'] == df.house_price.min()]"
   ]
  },
  {
   "cell_type": "markdown",
   "id": "6192818c",
   "metadata": {},
   "source": [
    "\n",
    "- It seems that the houses with the shortest distance to the MRT station have a higher house price.<br>\n",
    "- It is also evident that the houses with a shorter distance to the MRT station, sold more than those that are further away from the nearest MRT station.<br>\n",
    "- The outlier on the plot shows the house with highest price overall sold at 1,175,000 TWD, situated 252.58 meters away to the nearest MRT station.\n",
    "- However, another outlier shows that the house sold at the lowest price was situated close to an MRT station with only 393.26 meters away.\n",
    "- Nevertheless, the distance to the nearest MRT station (mrt_distance) is likely to be a strong predictor for the house price (house_price)"
   ]
  },
  {
   "cell_type": "code",
   "execution_count": 26,
   "id": "869f96fa",
   "metadata": {},
   "outputs": [
    {
     "data": {
      "image/png": "[encoded data removed]",
      "text/plain": [
       "<Figure size 432x288 with 1 Axes>"
      ]
     },
     "metadata": {
      "needs_background": "light"
     },
     "output_type": "display_data"
    }
   ],
   "source": [
    "# Does having more convenient stores near the living circle increase the house price?\n",
    "no_of_stores = df.no_of_stores\n",
    "\n",
    "# Visualisation\n",
    "plt.scatter(no_of_stores, house_price, color=\"#361163\")\n",
    "plt.ticklabel_format(style='plain')\n",
    "plt.title('Number of Convenient Stores vs. House Price')\n",
    "plt.xlabel('Number of Convenient Stores')\n",
    "plt.ylabel('House Price in New Taiwan Dollar (TWD)')\n",
    "plt.show()\n",
    "\n",
    "# ===== ADD LINEAR LINE"
   ]
  },
  {
   "cell_type": "markdown",
   "id": "21a08975",
   "metadata": {},
   "source": [
    "- Despite the outlier present in the data, the plot overall shows that the number of the convenient stores in the living circle (no_of_stores) does some-what have a positive linear trend and could potentially be a good predictor for the house price (house_price)"
   ]
  },
  {
   "cell_type": "code",
   "execution_count": 27,
   "id": "46e7d74a",
   "metadata": {},
   "outputs": [
    {
     "data": {
      "image/png": "[encoded data removed]",
      "text/plain": [
       "<Figure size 432x288 with 1 Axes>"
      ]
     },
     "metadata": {
      "needs_background": "light"
     },
     "output_type": "display_data"
    }
   ],
   "source": [
    "# Does the age of the house have impact on the sale price?\n",
    "house_age = df.house_age\n",
    "\n",
    "# Visualisation\n",
    "plt.scatter(house_age, house_price, color=\"#361163\")\n",
    "plt.ticklabel_format(style='plain')\n",
    "plt.title('House Age vs. House Price')\n",
    "plt.xlabel('House Age (Years)')\n",
    "plt.ylabel('House Price in New Taiwan Dollar (TWD)')\n",
    "plt.show()"
   ]
  },
  {
   "cell_type": "code",
   "execution_count": 28,
   "id": "e30bf32e",
   "metadata": {},
   "outputs": [
    {
     "name": "stdout",
     "output_type": "stream",
     "text": [
      "transaction_date    0.087529\n",
      "house_age           0.210567\n",
      "mrt_distance        0.673613\n",
      "no_of_stores        0.571005\n",
      "latitude            0.546307\n",
      "longitude           0.523287\n",
      "house_price         1.000000\n",
      "Name: house_price, dtype: float64\n"
     ]
    },
    {
     "data": {
      "image/png": "[encoded data removed]",
      "text/plain": [
       "<Figure size 432x288 with 2 Axes>"
      ]
     },
     "metadata": {
      "needs_background": "light"
     },
     "output_type": "display_data"
    }
   ],
   "source": [
    "# What are the correlation of each attribute to the house price (house_price)?\n",
    "\n",
    "# Visualisation\n",
    "sns.heatmap(df.corr())\n",
    "\n",
    "# The correlation of each attribute to the house price\n",
    "print(abs(df.corr()['house_price']))"
   ]
  },
  {
   "cell_type": "code",
   "execution_count": 29,
   "id": "4b6b746c",
   "metadata": {},
   "outputs": [
    {
     "data": {
      "image/png": "[encoded data removed]",
      "text/plain": [
       "<Figure size 432x288 with 1 Axes>"
      ]
     },
     "metadata": {
      "needs_background": "light"
     },
     "output_type": "display_data"
    }
   ],
   "source": [
    "sns.regplot(x=\"transaction_date\", y=\"house_price\", data=df, color=\"#361163\");"
   ]
  },
  {
   "cell_type": "code",
   "execution_count": 30,
   "id": "6dd97dbe",
   "metadata": {},
   "outputs": [
    {
     "data": {
      "text/plain": [
       "<AxesSubplot:xlabel='house_age', ylabel='house_price'>"
      ]
     },
     "execution_count": 30,
     "metadata": {},
     "output_type": "execute_result"
    },
    {
     "data": {
      "image/png": "[encoded data removed]",
      "text/plain": [
       "<Figure size 432x288 with 1 Axes>"
      ]
     },
     "metadata": {
      "needs_background": "light"
     },
     "output_type": "display_data"
    }
   ],
   "source": [
    "sns.regplot(x=\"house_age\", y=\"house_price\", data=df, color=\"#361163\")"
   ]
  },
  {
   "cell_type": "code",
   "execution_count": 31,
   "id": "c9f237b7",
   "metadata": {},
   "outputs": [
    {
     "data": {
      "image/png": "[encoded data removed]",
      "text/plain": [
       "<Figure size 432x288 with 1 Axes>"
      ]
     },
     "metadata": {
      "needs_background": "light"
     },
     "output_type": "display_data"
    }
   ],
   "source": [
    "sns.regplot(x=\"mrt_distance\", y=\"house_price\", data=df, color=\"#361163\");\n"
   ]
  },
  {
   "cell_type": "code",
   "execution_count": 32,
   "id": "f2a34bb1",
   "metadata": {},
   "outputs": [
    {
     "data": {
      "image/png": "[encoded data removed]",
      "text/plain": [
       "<Figure size 432x288 with 1 Axes>"
      ]
     },
     "metadata": {
      "needs_background": "light"
     },
     "output_type": "display_data"
    }
   ],
   "source": [
    "sns.regplot(x=\"latitude\", y=\"house_price\", data=df, color=\"#361163\");\n"
   ]
  },
  {
   "cell_type": "code",
   "execution_count": 33,
   "id": "979fe148",
   "metadata": {},
   "outputs": [
    {
     "data": {
      "image/png": "[encoded data removed]",
      "text/plain": [
       "<Figure size 432x288 with 1 Axes>"
      ]
     },
     "metadata": {
      "needs_background": "light"
     },
     "output_type": "display_data"
    }
   ],
   "source": [
    "sns.regplot(x=\"longitude\", y=\"house_price\", data=df, color=\"#361163\");\n"
   ]
  },
  {
   "cell_type": "code",
   "execution_count": 34,
   "id": "a4e4cc27",
   "metadata": {
    "scrolled": true
   },
   "outputs": [
    {
     "data": {
      "image/png": "[encoded data removed]",
      "text/plain": [
       "<Figure size 432x288 with 1 Axes>"
      ]
     },
     "metadata": {
      "needs_background": "light"
     },
     "output_type": "display_data"
    }
   ],
   "source": [
    "sns.regplot(x=\"no_of_stores\", y=\"house_price\", data=df, color=\"#361163\");"
   ]
  },
  {
   "cell_type": "code",
   "execution_count": 35,
   "id": "adad6d46",
   "metadata": {},
   "outputs": [
    {
     "data": {
      "image/png": "[encoded data removed]",
      "text/plain": [
       "<Figure size 1440x360 with 5 Axes>"
      ]
     },
     "metadata": {
      "needs_background": "light"
     },
     "output_type": "display_data"
    }
   ],
   "source": [
    "# # Multiple visualisation\n",
    "sns.pairplot(df, x_vars=[\"house_age\", \"mrt_distance\",\"no_of_stores\", \"longitude\", \"latitude\"],\n",
    "             y_vars=[\"house_price\"], height=5, aspect=.8, kind=\"reg\")\n",
    "plt.ticklabel_format(style='plain')"
   ]
  },
  {
   "cell_type": "code",
   "execution_count": 36,
   "id": "82c986e6",
   "metadata": {},
   "outputs": [],
   "source": [
    "# ===== DELETE THIS???\n",
    "# fig, axs = plt.subplots(ncols=3)\n",
    "# sns.regplot(x='no_of_stores', y='house_price', data=df, ax=axs[0])\n",
    "# sns.regplot(x='mrt_distance', y='house_price', data=df, ax=axs[1])\n",
    "# sns.regplot(x='longitude',y='house_price', data=df, ax=axs[2])\n",
    "# plt.ticklabel_format(style='plain')"
   ]
  },
  {
   "cell_type": "code",
   "execution_count": 37,
   "id": "5860b69d",
   "metadata": {},
   "outputs": [
    {
     "data": {
      "text/plain": [
       "Text(0.5, 1.0, 'House price based on geo-location')"
      ]
     },
     "execution_count": 37,
     "metadata": {},
     "output_type": "execute_result"
    },
    {
     "data": {
      "image/png": "[encoded data removed]",
      "text/plain": [
       "<Figure size 432x288 with 1 Axes>"
      ]
     },
     "metadata": {
      "needs_background": "light"
     },
     "output_type": "display_data"
    }
   ],
   "source": [
    "# Latitude, Longitude and House Price\n",
    "latitude = df.latitude\n",
    "longitude = df.longitude\n",
    "\n",
    "# Visualising the Latitude, Longitude and Houseprice\n",
    "# ===== Need to shorten the the house price\n",
    "sns.scatterplot(data=df, x=\"latitude\", y=\"longitude\", hue=\"house_price\", sizes=(20,200))\n",
    "plt.xlabel(\"Latitude\")\n",
    "plt.ylabel(\"Longitude\")\n",
    "plt.title(\"House price based on geo-location\")\n",
    "#CHECK LAT N LONG LOCATION"
   ]
  },
  {
   "cell_type": "code",
   "execution_count": 38,
   "id": "98cbc483",
   "metadata": {},
   "outputs": [
    {
     "data": {
      "text/plain": [
       "Text(0.5, 1.0, 'House price based on geo-location')"
      ]
     },
     "execution_count": 38,
     "metadata": {},
     "output_type": "execute_result"
    },
    {
     "data": {
      "image/png": "[encoded data removed]",
      "text/plain": [
       "<Figure size 432x288 with 2 Axes>"
      ]
     },
     "metadata": {
      "needs_background": "light"
     },
     "output_type": "display_data"
    }
   ],
   "source": [
    "# Location vs. House Price\n",
    "# ===== NEED TO SHOW X AXIS\n",
    "# ===== NEED TO CONVER THE COLOUR BAR\n",
    "# df.plot(kind='scatter',\n",
    "#         x='longitude',\n",
    "#         y='latitude',\n",
    "#         alpha=0.4, label='House',\n",
    "#         figsize=(15,10),\n",
    "#         c='house_price',\n",
    "#         cmap=plt.get_cmap(\"plasma\"),\n",
    "#         colorbar=True,\n",
    "#         title='Location Vs. House Price')\n",
    "# plt.ticklabel_format(style='plain')\n",
    "\n",
    "plt.scatter(latitude, longitude, alpha = 0.5, c=house_price, sizes=(10,20))\n",
    "plt.colorbar()\n",
    "plt.xlabel(\"Latitude\")\n",
    "plt.ylabel(\"Longitude\")\n",
    "plt.title(\"House price based on geo-location\")"
   ]
  },
  {
   "cell_type": "code",
   "execution_count": 39,
   "id": "958a91a4",
   "metadata": {},
   "outputs": [],
   "source": [
    "# Visualising the Real Estate Valuation Dataset sns.pairplot(df, hue='house_price')"
   ]
  },
  {
   "cell_type": "markdown",
   "id": "fa4ed996",
   "metadata": {},
   "source": [
    "#### Feature Selection\n",
    "https://www.youtube.com/watch?v=iJ5c-XoHPFo&ab_channel=PhDandProductivity"
   ]
  },
  {
   "cell_type": "markdown",
   "id": "9aaf5249",
   "metadata": {},
   "source": [
    "We can see that the date of the house sale (transaction_date) has little to no correlation with the sale price (house_price). Therefore, I am removing this column."
   ]
  },
  {
   "cell_type": "code",
   "execution_count": 40,
   "id": "a1c10961",
   "metadata": {},
   "outputs": [
    {
     "data": {
      "text/plain": [
       "transaction_date    0.087529\n",
       "house_age           0.210567\n",
       "mrt_distance        0.673613\n",
       "no_of_stores        0.571005\n",
       "latitude            0.546307\n",
       "longitude           0.523287\n",
       "house_price         1.000000\n",
       "Name: house_price, dtype: float64"
      ]
     },
     "execution_count": 40,
     "metadata": {},
     "output_type": "execute_result"
    }
   ],
   "source": [
    "abs(df.corr()['house_price'])"
   ]
  },
  {
   "cell_type": "code",
   "execution_count": 41,
   "id": "7d722c8e",
   "metadata": {},
   "outputs": [],
   "source": [
    "col_drop = df[['transaction_date','house_age']]\n",
    "df.drop(columns = col_drop, inplace = True)"
   ]
  },
  {
   "cell_type": "code",
   "execution_count": 42,
   "id": "b957e62d",
   "metadata": {},
   "outputs": [
    {
     "data": {
      "text/html": [
       "<div>\n",
       "<style scoped>\n",
       "    .dataframe tbody tr th:only-of-type {\n",
       "        vertical-align: middle;\n",
       "    }\n",
       "\n",
       "    .dataframe tbody tr th {\n",
       "        vertical-align: top;\n",
       "    }\n",
       "\n",
       "    .dataframe thead th {\n",
       "        text-align: right;\n",
       "    }\n",
       "</style>\n",
       "<table border=\"1\" class=\"dataframe\">\n",
       "  <thead>\n",
       "    <tr style=\"text-align: right;\">\n",
       "      <th></th>\n",
       "      <th>mrt_distance</th>\n",
       "      <th>no_of_stores</th>\n",
       "      <th>latitude</th>\n",
       "      <th>longitude</th>\n",
       "      <th>house_price</th>\n",
       "    </tr>\n",
       "  </thead>\n",
       "  <tbody>\n",
       "    <tr>\n",
       "      <th>0</th>\n",
       "      <td>84.88</td>\n",
       "      <td>10</td>\n",
       "      <td>24.98298</td>\n",
       "      <td>121.54024</td>\n",
       "      <td>379000.0</td>\n",
       "    </tr>\n",
       "    <tr>\n",
       "      <th>1</th>\n",
       "      <td>306.59</td>\n",
       "      <td>9</td>\n",
       "      <td>24.98034</td>\n",
       "      <td>121.53951</td>\n",
       "      <td>422000.0</td>\n",
       "    </tr>\n",
       "    <tr>\n",
       "      <th>2</th>\n",
       "      <td>561.98</td>\n",
       "      <td>5</td>\n",
       "      <td>24.98746</td>\n",
       "      <td>121.54391</td>\n",
       "      <td>473000.0</td>\n",
       "    </tr>\n",
       "    <tr>\n",
       "      <th>3</th>\n",
       "      <td>561.98</td>\n",
       "      <td>5</td>\n",
       "      <td>24.98746</td>\n",
       "      <td>121.54391</td>\n",
       "      <td>548000.0</td>\n",
       "    </tr>\n",
       "    <tr>\n",
       "      <th>4</th>\n",
       "      <td>390.57</td>\n",
       "      <td>5</td>\n",
       "      <td>24.97937</td>\n",
       "      <td>121.54245</td>\n",
       "      <td>431000.0</td>\n",
       "    </tr>\n",
       "    <tr>\n",
       "      <th>5</th>\n",
       "      <td>2175.03</td>\n",
       "      <td>3</td>\n",
       "      <td>24.96305</td>\n",
       "      <td>121.51254</td>\n",
       "      <td>321000.0</td>\n",
       "    </tr>\n",
       "    <tr>\n",
       "      <th>6</th>\n",
       "      <td>623.47</td>\n",
       "      <td>7</td>\n",
       "      <td>24.97933</td>\n",
       "      <td>121.53642</td>\n",
       "      <td>403000.0</td>\n",
       "    </tr>\n",
       "    <tr>\n",
       "      <th>7</th>\n",
       "      <td>287.60</td>\n",
       "      <td>6</td>\n",
       "      <td>24.98042</td>\n",
       "      <td>121.54228</td>\n",
       "      <td>467000.0</td>\n",
       "    </tr>\n",
       "    <tr>\n",
       "      <th>8</th>\n",
       "      <td>5512.04</td>\n",
       "      <td>1</td>\n",
       "      <td>24.95095</td>\n",
       "      <td>121.48458</td>\n",
       "      <td>188000.0</td>\n",
       "    </tr>\n",
       "    <tr>\n",
       "      <th>9</th>\n",
       "      <td>1783.18</td>\n",
       "      <td>3</td>\n",
       "      <td>24.96731</td>\n",
       "      <td>121.51486</td>\n",
       "      <td>221000.0</td>\n",
       "    </tr>\n",
       "  </tbody>\n",
       "</table>\n",
       "</div>"
      ],
      "text/plain": [
       "   mrt_distance  no_of_stores  latitude  longitude  house_price\n",
       "0         84.88            10  24.98298  121.54024     379000.0\n",
       "1        306.59             9  24.98034  121.53951     422000.0\n",
       "2        561.98             5  24.98746  121.54391     473000.0\n",
       "3        561.98             5  24.98746  121.54391     548000.0\n",
       "4        390.57             5  24.97937  121.54245     431000.0\n",
       "5       2175.03             3  24.96305  121.51254     321000.0\n",
       "6        623.47             7  24.97933  121.53642     403000.0\n",
       "7        287.60             6  24.98042  121.54228     467000.0\n",
       "8       5512.04             1  24.95095  121.48458     188000.0\n",
       "9       1783.18             3  24.96731  121.51486     221000.0"
      ]
     },
     "execution_count": 42,
     "metadata": {},
     "output_type": "execute_result"
    }
   ],
   "source": [
    "df.head(10)"
   ]
  },
  {
   "cell_type": "markdown",
   "id": "6575a504",
   "metadata": {},
   "source": [
    "#### Feature Scaling "
   ]
  },
  {
   "cell_type": "markdown",
   "id": "f0ddc193",
   "metadata": {},
   "source": [
    "Code adapted from:<br>\n",
    "https://towardsdatascience.com/feature-scaling-effectively-choose-input-variables-based-on-distributions-3032207c921f\n",
    "<br> \n",
    "https://www.baeldung.com/cs/normalization-vs-standardization\n"
   ]
  },
  {
   "cell_type": "code",
   "execution_count": 43,
   "id": "5c1700c2",
   "metadata": {},
   "outputs": [],
   "source": [
    "# Import relevant packages for feature scaling\n",
    "from sklearn.preprocessing import StandardScaler # ===== DELETE THIS??\n",
    "from sklearn.preprocessing import MinMaxScaler # ===== DELETE THIS??"
   ]
  },
  {
   "cell_type": "code",
   "execution_count": 44,
   "id": "361eecd0",
   "metadata": {},
   "outputs": [
    {
     "data": {
      "text/html": [
       "<div>\n",
       "<style scoped>\n",
       "    .dataframe tbody tr th:only-of-type {\n",
       "        vertical-align: middle;\n",
       "    }\n",
       "\n",
       "    .dataframe tbody tr th {\n",
       "        vertical-align: top;\n",
       "    }\n",
       "\n",
       "    .dataframe thead th {\n",
       "        text-align: right;\n",
       "    }\n",
       "</style>\n",
       "<table border=\"1\" class=\"dataframe\">\n",
       "  <thead>\n",
       "    <tr style=\"text-align: right;\">\n",
       "      <th></th>\n",
       "      <th>mrt_distance</th>\n",
       "      <th>no_of_stores</th>\n",
       "      <th>latitude</th>\n",
       "      <th>longitude</th>\n",
       "      <th>house_price</th>\n",
       "    </tr>\n",
       "  </thead>\n",
       "  <tbody>\n",
       "    <tr>\n",
       "      <th>0</th>\n",
       "      <td>84.88</td>\n",
       "      <td>10</td>\n",
       "      <td>24.98298</td>\n",
       "      <td>121.54024</td>\n",
       "      <td>379000.0</td>\n",
       "    </tr>\n",
       "    <tr>\n",
       "      <th>1</th>\n",
       "      <td>306.59</td>\n",
       "      <td>9</td>\n",
       "      <td>24.98034</td>\n",
       "      <td>121.53951</td>\n",
       "      <td>422000.0</td>\n",
       "    </tr>\n",
       "    <tr>\n",
       "      <th>2</th>\n",
       "      <td>561.98</td>\n",
       "      <td>5</td>\n",
       "      <td>24.98746</td>\n",
       "      <td>121.54391</td>\n",
       "      <td>473000.0</td>\n",
       "    </tr>\n",
       "    <tr>\n",
       "      <th>3</th>\n",
       "      <td>561.98</td>\n",
       "      <td>5</td>\n",
       "      <td>24.98746</td>\n",
       "      <td>121.54391</td>\n",
       "      <td>548000.0</td>\n",
       "    </tr>\n",
       "    <tr>\n",
       "      <th>4</th>\n",
       "      <td>390.57</td>\n",
       "      <td>5</td>\n",
       "      <td>24.97937</td>\n",
       "      <td>121.54245</td>\n",
       "      <td>431000.0</td>\n",
       "    </tr>\n",
       "  </tbody>\n",
       "</table>\n",
       "</div>"
      ],
      "text/plain": [
       "   mrt_distance  no_of_stores  latitude  longitude  house_price\n",
       "0         84.88            10  24.98298  121.54024     379000.0\n",
       "1        306.59             9  24.98034  121.53951     422000.0\n",
       "2        561.98             5  24.98746  121.54391     473000.0\n",
       "3        561.98             5  24.98746  121.54391     548000.0\n",
       "4        390.57             5  24.97937  121.54245     431000.0"
      ]
     },
     "execution_count": 44,
     "metadata": {},
     "output_type": "execute_result"
    }
   ],
   "source": [
    "# Original dataset\n",
    "df.head()"
   ]
  },
  {
   "cell_type": "code",
   "execution_count": 45,
   "id": "43c3e832",
   "metadata": {
    "scrolled": true
   },
   "outputs": [
    {
     "data": {
      "text/html": [
       "<div>\n",
       "<style scoped>\n",
       "    .dataframe tbody tr th:only-of-type {\n",
       "        vertical-align: middle;\n",
       "    }\n",
       "\n",
       "    .dataframe tbody tr th {\n",
       "        vertical-align: top;\n",
       "    }\n",
       "\n",
       "    .dataframe thead th {\n",
       "        text-align: right;\n",
       "    }\n",
       "</style>\n",
       "<table border=\"1\" class=\"dataframe\">\n",
       "  <thead>\n",
       "    <tr style=\"text-align: right;\">\n",
       "      <th></th>\n",
       "      <th>mrt_distance</th>\n",
       "      <th>no_of_stores</th>\n",
       "      <th>latitude</th>\n",
       "      <th>longitude</th>\n",
       "      <th>house_price</th>\n",
       "    </tr>\n",
       "  </thead>\n",
       "  <tbody>\n",
       "    <tr>\n",
       "      <th>0</th>\n",
       "      <td>0.009513</td>\n",
       "      <td>1.0</td>\n",
       "      <td>0.616941</td>\n",
       "      <td>0.719323</td>\n",
       "      <td>0.275705</td>\n",
       "    </tr>\n",
       "    <tr>\n",
       "      <th>1</th>\n",
       "      <td>0.043809</td>\n",
       "      <td>0.9</td>\n",
       "      <td>0.584949</td>\n",
       "      <td>0.711451</td>\n",
       "      <td>0.314832</td>\n",
       "    </tr>\n",
       "    <tr>\n",
       "      <th>2</th>\n",
       "      <td>0.083315</td>\n",
       "      <td>0.5</td>\n",
       "      <td>0.671231</td>\n",
       "      <td>0.758896</td>\n",
       "      <td>0.361237</td>\n",
       "    </tr>\n",
       "    <tr>\n",
       "      <th>3</th>\n",
       "      <td>0.083315</td>\n",
       "      <td>0.5</td>\n",
       "      <td>0.671231</td>\n",
       "      <td>0.758896</td>\n",
       "      <td>0.429481</td>\n",
       "    </tr>\n",
       "    <tr>\n",
       "      <th>4</th>\n",
       "      <td>0.056800</td>\n",
       "      <td>0.5</td>\n",
       "      <td>0.573194</td>\n",
       "      <td>0.743153</td>\n",
       "      <td>0.323021</td>\n",
       "    </tr>\n",
       "  </tbody>\n",
       "</table>\n",
       "</div>"
      ],
      "text/plain": [
       "   mrt_distance  no_of_stores  latitude  longitude  house_price\n",
       "0      0.009513           1.0  0.616941   0.719323     0.275705\n",
       "1      0.043809           0.9  0.584949   0.711451     0.314832\n",
       "2      0.083315           0.5  0.671231   0.758896     0.361237\n",
       "3      0.083315           0.5  0.671231   0.758896     0.429481\n",
       "4      0.056800           0.5  0.573194   0.743153     0.323021"
      ]
     },
     "execution_count": 45,
     "metadata": {},
     "output_type": "execute_result"
    }
   ],
   "source": [
    "# Normalised dataset\n",
    "min_max = MinMaxScaler()\n",
    "df_norm = min_max.fit_transform(df)\n",
    "df_norm = pd.DataFrame(df_norm, columns = df.columns)\n",
    "df_norm.head()"
   ]
  },
  {
   "cell_type": "code",
   "execution_count": 46,
   "id": "42c4e056",
   "metadata": {},
   "outputs": [
    {
     "data": {
      "text/html": [
       "<div>\n",
       "<style scoped>\n",
       "    .dataframe tbody tr th:only-of-type {\n",
       "        vertical-align: middle;\n",
       "    }\n",
       "\n",
       "    .dataframe tbody tr th {\n",
       "        vertical-align: top;\n",
       "    }\n",
       "\n",
       "    .dataframe thead th {\n",
       "        text-align: right;\n",
       "    }\n",
       "</style>\n",
       "<table border=\"1\" class=\"dataframe\">\n",
       "  <thead>\n",
       "    <tr style=\"text-align: right;\">\n",
       "      <th></th>\n",
       "      <th>mrt_distance</th>\n",
       "      <th>no_of_stores</th>\n",
       "      <th>latitude</th>\n",
       "      <th>longitude</th>\n",
       "      <th>house_price</th>\n",
       "    </tr>\n",
       "  </thead>\n",
       "  <tbody>\n",
       "    <tr>\n",
       "      <th>0</th>\n",
       "      <td>-0.792494</td>\n",
       "      <td>2.007407</td>\n",
       "      <td>1.125430</td>\n",
       "      <td>0.448762</td>\n",
       "      <td>-0.005901</td>\n",
       "    </tr>\n",
       "    <tr>\n",
       "      <th>1</th>\n",
       "      <td>-0.616615</td>\n",
       "      <td>1.667503</td>\n",
       "      <td>0.912444</td>\n",
       "      <td>0.401139</td>\n",
       "      <td>0.310507</td>\n",
       "    </tr>\n",
       "    <tr>\n",
       "      <th>2</th>\n",
       "      <td>-0.414019</td>\n",
       "      <td>0.307885</td>\n",
       "      <td>1.486860</td>\n",
       "      <td>0.688183</td>\n",
       "      <td>0.685782</td>\n",
       "    </tr>\n",
       "    <tr>\n",
       "      <th>3</th>\n",
       "      <td>-0.414019</td>\n",
       "      <td>0.307885</td>\n",
       "      <td>1.486860</td>\n",
       "      <td>0.688183</td>\n",
       "      <td>1.237656</td>\n",
       "    </tr>\n",
       "    <tr>\n",
       "      <th>4</th>\n",
       "      <td>-0.549995</td>\n",
       "      <td>0.307885</td>\n",
       "      <td>0.834188</td>\n",
       "      <td>0.592937</td>\n",
       "      <td>0.376732</td>\n",
       "    </tr>\n",
       "  </tbody>\n",
       "</table>\n",
       "</div>"
      ],
      "text/plain": [
       "   mrt_distance  no_of_stores  latitude  longitude  house_price\n",
       "0     -0.792494      2.007407  1.125430   0.448762    -0.005901\n",
       "1     -0.616615      1.667503  0.912444   0.401139     0.310507\n",
       "2     -0.414019      0.307885  1.486860   0.688183     0.685782\n",
       "3     -0.414019      0.307885  1.486860   0.688183     1.237656\n",
       "4     -0.549995      0.307885  0.834188   0.592937     0.376732"
      ]
     },
     "execution_count": 46,
     "metadata": {},
     "output_type": "execute_result"
    }
   ],
   "source": [
    "# Standardised dataset\n",
    "std_scaler = StandardScaler()\n",
    "df_std = std_scaler.fit_transform(df)\n",
    "df_std = pd.DataFrame(df_std, columns = df.columns)\n",
    "df_std.head()"
   ]
  },
  {
   "cell_type": "markdown",
   "id": "c8f0dde9",
   "metadata": {},
   "source": [
    "#### Importing relevant libraries"
   ]
  },
  {
   "cell_type": "code",
   "execution_count": 47,
   "id": "dcd7cb9d",
   "metadata": {},
   "outputs": [],
   "source": [
    "# Import relevant packages for building the models\n",
    "np.random.seed(42)\n",
    "from sklearn.model_selection import train_test_split\n",
    "from sklearn.linear_model import LinearRegression\n",
    "from sklearn.ensemble import RandomForestRegressor\n",
    "\n",
    "# Import relevant packages for the performance evaluation\n",
    "from sklearn.metrics import r2_score, explained_variance_score, mean_absolute_error\n",
    "from sklearn.metrics import mean_squared_error, median_absolute_error\n",
    "# from sklearn.model_selection import cross_val_score ===== DELETE THIS"
   ]
  },
  {
   "cell_type": "markdown",
   "id": "8c8421bd",
   "metadata": {},
   "source": [
    "## Linear Regression"
   ]
  },
  {
   "cell_type": "markdown",
   "id": "6d6b32db",
   "metadata": {},
   "source": [
    "#### Fitting the model and making predictions (Original dataset)"
   ]
  },
  {
   "cell_type": "code",
   "execution_count": 48,
   "id": "86f09878",
   "metadata": {},
   "outputs": [],
   "source": [
    "# Splitting features(X) and target(y)\n",
    "X = df.drop(\"house_price\", axis = 1)\n",
    "y = df.house_price\n",
    "\n",
    "# Splitting into training and testing sets\n",
    "np.random.seed(42)\n",
    "X_train, X_test, y_train, y_test = train_test_split(X, y, test_size = 0.2)\n",
    "\n",
    "# Build the Linear Regression Model on original dataset\n",
    "lin_reg = LinearRegression()\n",
    "\n",
    "# Fit the Linear Regression Model\n",
    "lin_reg.fit(X_train, y_train)\n",
    "\n",
    "# Using the model to make a prediction\n",
    "y_pred_lin = lin_reg.predict(X_test)"
   ]
  },
  {
   "cell_type": "markdown",
   "id": "76067a1a",
   "metadata": {},
   "source": [
    "#### Performance Evaluation"
   ]
  },
  {
   "cell_type": "code",
   "execution_count": 49,
   "id": "648ff1cd",
   "metadata": {},
   "outputs": [
    {
     "name": "stdout",
     "output_type": "stream",
     "text": [
      "The performance evaluation of the Linear Regression model with the original dataset are as follows:\n",
      "\n",
      "R-squared score is: 0.6190689049792779\n",
      "Mean suqared error is: 6390490318.049529\n",
      "Mean absolute error is: 62435.48565725148\n"
     ]
    }
   ],
   "source": [
    "print(\"The performance evaluation of the Linear Regression model with the original dataset are as follows:\\n\")\n",
    "\n",
    "# Checking the R squared score of the model [Best score: 1]\n",
    "print(\"R-squared score is:\", r2_score(y_test, y_pred_lin)),2\n",
    "\n",
    "# Checking the Mean Squared Error of the model (MSE) [Best Value: 0.0]\n",
    "print(\"Mean suqared error is:\", mean_squared_error(y_test, y_pred_lin))\n",
    "\n",
    "# Checking the Mean Absolute Error (MAE), which shows the average difference between the prediction and the test [Best value: 0.0]\n",
    "print(\"Mean absolute error is:\",mean_absolute_error(y_test, y_pred_lin))\n",
    "\n",
    "# ===== DELETE BELOW\n",
    "# # Checking the Median Absoute Error (MAD) [Best value: 0.0]\n",
    "# print(\"Median absolute error is:\", median_absolute_error(y_test, y_pred_lin))\n",
    "\n",
    "# # Checking the Explained Variance Score\n",
    "# # (Best possible score: 1)\n",
    "# print(\"Explained variance score is:\", explained_variance_score(y_test, y_pred_lin))"
   ]
  },
  {
   "cell_type": "code",
   "execution_count": 50,
   "id": "f81cd226",
   "metadata": {},
   "outputs": [
    {
     "data": {
      "text/plain": [
       "Text(0, 0.5, 'Actual House Price')"
      ]
     },
     "execution_count": 50,
     "metadata": {},
     "output_type": "execute_result"
    },
    {
     "data": {
      "image/png": "[encoded data removed]",
      "text/plain": [
       "<Figure size 432x288 with 1 Axes>"
      ]
     },
     "metadata": {
      "needs_background": "light"
     },
     "output_type": "display_data"
    }
   ],
   "source": [
    "# Code adapted from https://stackoverflow.com/questions/52404857/how-do-i-plot-for-multiple-linear-regression-model-using-matplotlib\n",
    "# Line of best fit for test vs. prediction\n",
    "sns.regplot(x=y_test, y=y_pred_lin, ci=None, color=\"#361163\")\n",
    "plt.title(\"Linear Regression: Actual House Price vs. Predicted House Price\")\n",
    "plt.xlabel(\"Predicted House Price\")\n",
    "plt.ylabel(\"Actual House Price\")\n",
    "# ===== NEED TO INVERSE NORMALISATION ON X AXIS"
   ]
  },
  {
   "cell_type": "markdown",
   "id": "1dce42ec",
   "metadata": {},
   "source": [
    "#### Fitting the model and making predictions (Standardized data)"
   ]
  },
  {
   "cell_type": "code",
   "execution_count": 51,
   "id": "a87a629b",
   "metadata": {},
   "outputs": [],
   "source": [
    "# Splitting features(X) and target(y)\n",
    "X = df_std.drop(\"house_price\", axis = 1)\n",
    "y = df_std.house_price\n",
    "\n",
    "# Splitting into training and testing sets\n",
    "np.random.seed(42)\n",
    "X_train, X_test, y_train, y_test = train_test_split(X, y, test_size = 0.2)\n",
    "\n",
    "# Build the Linear Regression Model on original dataset\n",
    "lin_reg_std = LinearRegression()\n",
    "\n",
    "# Fit the Linear Regression Model\n",
    "lin_reg_std.fit(X_train, y_train)\n",
    "\n",
    "# Using the model to make a prediction\n",
    "y_pred_lin_std = lin_reg_std.predict(X_test)"
   ]
  },
  {
   "cell_type": "markdown",
   "id": "2f007086",
   "metadata": {},
   "source": [
    "#### Performance Evaluation"
   ]
  },
  {
   "cell_type": "code",
   "execution_count": 52,
   "id": "e74f4c11",
   "metadata": {},
   "outputs": [
    {
     "name": "stdout",
     "output_type": "stream",
     "text": [
      "R-squared score is: 0.6190689049792846\n",
      "Mean suqared error is: 0.3460129905123967\n",
      "Mean absolute error is: 0.4594207491379172\n"
     ]
    }
   ],
   "source": [
    "print(\"R-squared score is:\", r2_score(y_test, y_pred_lin_std))\n",
    "print(\"Mean suqared error is:\", mean_squared_error(y_test, y_pred_lin_std))\n",
    "print(\"Mean absolute error is:\",mean_absolute_error(y_test, y_pred_lin_std))"
   ]
  },
  {
   "cell_type": "markdown",
   "id": "a2f072c3",
   "metadata": {},
   "source": [
    "#### Fitting the model and making predictions (Normalized data)"
   ]
  },
  {
   "cell_type": "code",
   "execution_count": 53,
   "id": "72baeae2",
   "metadata": {},
   "outputs": [],
   "source": [
    "# Splitting features(X) and target(y)\n",
    "X = df_norm.drop(\"house_price\", axis = 1)\n",
    "y = df_norm.house_price\n",
    "\n",
    "# Splitting into training and testing sets\n",
    "np.random.seed(42)\n",
    "X_train, X_test, y_train, y_test = train_test_split(X, y, test_size = 0.2)\n",
    "\n",
    "\n",
    "# Build the Linear Regression Model on original dataset\n",
    "lin_reg_norm = LinearRegression()\n",
    "\n",
    "# Fit the Linear Regression Model\n",
    "lin_reg_norm.fit(X_train, y_train)\n",
    "\n",
    "# Using the model to make a prediction\n",
    "y_pred_lin_norm = lin_reg_norm.predict(X_test)"
   ]
  },
  {
   "cell_type": "markdown",
   "id": "b1101c1c",
   "metadata": {},
   "source": [
    "#### Performance Evaluation"
   ]
  },
  {
   "cell_type": "code",
   "execution_count": 54,
   "id": "7cf0153e",
   "metadata": {},
   "outputs": [
    {
     "name": "stdout",
     "output_type": "stream",
     "text": [
      "R-squared score is: 0.6190689049792859\n",
      "Mean suqared error is: 0.005291012607250195\n",
      "Mean absolute error is: 0.0568111789419929\n"
     ]
    }
   ],
   "source": [
    "print(\"R-squared score is:\", r2_score(y_test, y_pred_lin_norm))\n",
    "print(\"Mean suqared error is:\", mean_squared_error(y_test, y_pred_lin_norm))\n",
    "print(\"Mean absolute error is:\",mean_absolute_error(y_test, y_pred_lin_norm))"
   ]
  },
  {
   "cell_type": "markdown",
   "id": "490a0df7",
   "metadata": {},
   "source": [
    "## Random Forest Regressor"
   ]
  },
  {
   "cell_type": "code",
   "execution_count": 55,
   "id": "94537594",
   "metadata": {},
   "outputs": [],
   "source": [
    "# ===== NEED TO VISUALISE DECISION TREE"
   ]
  },
  {
   "cell_type": "markdown",
   "id": "497e76f1",
   "metadata": {},
   "source": [
    "#### Fitting a 'Random Forest Regressor' model"
   ]
  },
  {
   "cell_type": "code",
   "execution_count": 56,
   "id": "9accebd8",
   "metadata": {},
   "outputs": [],
   "source": [
    "# Splitting features(X) and target(y)\n",
    "X = df.drop(\"house_price\", axis = 1)\n",
    "y = df.house_price\n",
    "\n",
    "# Splitting into training and testing sets\n",
    "np.random.seed(42)\n",
    "X_train, X_test, y_train, y_test = train_test_split(X, y, test_size = 0.2)\n",
    "\n",
    "# Build the Random Forest Model\n",
    "rf = RandomForestRegressor()\n",
    "\n",
    "# Fit the model\n",
    "rf.fit(X_train, y_train)\n",
    "\n",
    "# Using the model to make a prediction\n",
    "y_pred_rf = rf.predict(X_test)"
   ]
  },
  {
   "cell_type": "code",
   "execution_count": 57,
   "id": "938fce58",
   "metadata": {},
   "outputs": [],
   "source": [
    "# Visualise Random Forest Regressor"
   ]
  },
  {
   "cell_type": "code",
   "execution_count": 58,
   "id": "d3c6a79e",
   "metadata": {},
   "outputs": [],
   "source": [
    "# ===== DELETE THIS\n",
    "# ===== Checking the first 20 values of the predicted results against the first 20 values of the y_test\n",
    "# y_pred_rf[:20]"
   ]
  },
  {
   "cell_type": "code",
   "execution_count": 59,
   "id": "cbc88b39",
   "metadata": {},
   "outputs": [],
   "source": [
    "# np.array(y_test[:20])"
   ]
  },
  {
   "cell_type": "markdown",
   "id": "424e62bb",
   "metadata": {},
   "source": [
    "#### Performance Evaluation"
   ]
  },
  {
   "cell_type": "code",
   "execution_count": 60,
   "id": "1c6195b2",
   "metadata": {
    "scrolled": true
   },
   "outputs": [
    {
     "name": "stdout",
     "output_type": "stream",
     "text": [
      "The performance evaluation of the Random Forest Regression model are as follows:\n",
      "\n",
      "R-squared score is: 0.7783228785785916\n",
      "Mean suqared error is: 3718849725.5639834\n",
      "Mean absolute error is: 42197.80255220013\n"
     ]
    }
   ],
   "source": [
    "print(\"The performance evaluation of the Random Forest Regression model are as follows:\\n\")\n",
    "\n",
    "# Checking the R squared score of the model\n",
    "# (Best score: 1)\n",
    "print(\"R-squared score is:\", r2_score(y_test, y_pred_rf))\n",
    "\n",
    "# Checking the Mean Squared Error of the model (MSE)\n",
    "# (Best Value: 0.0)\n",
    "print(\"Mean suqared error is:\", mean_squared_error(y_test, y_pred_rf))\n",
    "\n",
    "# Checking the Mean Absolute Error (MAE), which shows the average difference between the prediction and the test\n",
    "# Best value: 0.0\n",
    "print(\"Mean absolute error is:\",mean_absolute_error(y_test, y_pred_rf))"
   ]
  },
  {
   "cell_type": "markdown",
   "id": "3daaddc6",
   "metadata": {},
   "source": [
    "#### Fitting the model and making predictions (Standardized data)"
   ]
  },
  {
   "cell_type": "code",
   "execution_count": 61,
   "id": "6f57743a",
   "metadata": {},
   "outputs": [],
   "source": [
    "# Splitting features(X) and target(y)\n",
    "X = df_std.drop(\"house_price\", axis = 1)\n",
    "y = df_std.house_price\n",
    "\n",
    "# Splitting into training and testing sets\n",
    "np.random.seed(42)\n",
    "X_train, X_test, y_train, y_test = train_test_split(X, y, test_size = 0.2)\n",
    "\n",
    "# Build the Random Forest Model\n",
    "rf_std = RandomForestRegressor()\n",
    "\n",
    "# Fit the model\n",
    "rf_std.fit(X_train, y_train)\n",
    "\n",
    "# Using the model to make a prediction\n",
    "y_pred_rf_std = rf_std.predict(X_test)"
   ]
  },
  {
   "cell_type": "code",
   "execution_count": 62,
   "id": "3d698662",
   "metadata": {},
   "outputs": [
    {
     "name": "stdout",
     "output_type": "stream",
     "text": [
      "The performance evaluation of the Random Forest Regression model on a standardized dataset are as follows:\n",
      "\n",
      "R-squared score is: 0.7793936827839472\n",
      "Mean suqared error is: 0.20038440690094317\n",
      "Mean absolute error is: 0.31026298679377085\n"
     ]
    }
   ],
   "source": [
    "print(\"The performance evaluation of the Random Forest Regression model on a standardized dataset are as follows:\\n\")\n",
    "\n",
    "# Checking the R squared score of the model\n",
    "# (Best score: 1)\n",
    "print(\"R-squared score is:\", r2_score(y_test, y_pred_rf_std))\n",
    "\n",
    "# Checking the Mean Squared Error of the model (MSE)\n",
    "# (Best Value: 0.0)\n",
    "print(\"Mean suqared error is:\", mean_squared_error(y_test, y_pred_rf_std))\n",
    "\n",
    "# Checking the Mean Absolute Error (MAE), which shows the average difference between the prediction and the test\n",
    "# Best value: 0.0\n",
    "print(\"Mean absolute error is:\",mean_absolute_error(y_test, y_pred_rf_std))"
   ]
  },
  {
   "cell_type": "markdown",
   "id": "0c10546e",
   "metadata": {},
   "source": [
    "#### Fitting the model and making predictions (Normalized data)"
   ]
  },
  {
   "cell_type": "code",
   "execution_count": 63,
   "id": "44018549",
   "metadata": {},
   "outputs": [],
   "source": [
    "# Splitting features(X) and target(y)\n",
    "X = df_norm.drop(\"house_price\", axis = 1)\n",
    "y = df_norm.house_price\n",
    "\n",
    "# Splitting into training and testing sets\n",
    "np.random.seed(42)\n",
    "X_train, X_test, y_train, y_test = train_test_split(X, y, test_size = 0.2)\n",
    "\n",
    "# Build the Random Forest Model\n",
    "rf_norm = RandomForestRegressor()\n",
    "\n",
    "# Fit the model\n",
    "rf_norm.fit(X_train, y_train)\n",
    "\n",
    "# Using the model to make a prediction\n",
    "y_pred_rf_norm = rf_norm.predict(X_test)"
   ]
  },
  {
   "cell_type": "code",
   "execution_count": 64,
   "id": "28729df2",
   "metadata": {},
   "outputs": [
    {
     "name": "stdout",
     "output_type": "stream",
     "text": [
      "The performance evaluation of the Random Forest Regression model on a normalzed dataset are as follows:\n",
      "\n",
      "R-squared score is: 0.77840726399712\n",
      "Mean suqared error is: 0.003077853121448505\n",
      "Mean absolute error is: 0.038285173755379404\n"
     ]
    }
   ],
   "source": [
    "print(\"The performance evaluation of the Random Forest Regression model on a normalzed dataset are as follows:\\n\")\n",
    "\n",
    "# Checking the R squared score of the model\n",
    "# (Best score: 1)\n",
    "print(\"R-squared score is:\", r2_score(y_test, y_pred_rf_norm))\n",
    "\n",
    "# Checking the Mean Squared Error of the model (MSE)\n",
    "# (Best Value: 0.0)\n",
    "print(\"Mean suqared error is:\", mean_squared_error(y_test, y_pred_rf_norm))\n",
    "\n",
    "# Checking the Mean Absolute Error (MAE), which shows the average difference between the prediction and the test\n",
    "# Best value: 0.0\n",
    "print(\"Mean absolute error is:\",mean_absolute_error(y_test, y_pred_rf_norm))"
   ]
  },
  {
   "cell_type": "code",
   "execution_count": null,
   "id": "d0c4b2fe",
   "metadata": {},
   "outputs": [],
   "source": []
  },
  {
   "cell_type": "code",
   "execution_count": null,
   "id": "c10ee5f1",
   "metadata": {},
   "outputs": [],
   "source": []
  },
  {
   "cell_type": "code",
   "execution_count": 65,
   "id": "e4d28a85",
   "metadata": {},
   "outputs": [],
   "source": [
    "# Cross Validation\n",
    "# np.random.seed(42)\n",
    "# cv_r2 = cross_val_score(rf, X, y, cv=5)\n",
    "# np.mean(cv_r2)"
   ]
  },
  {
   "cell_type": "code",
   "execution_count": 66,
   "id": "1c0bddd3",
   "metadata": {},
   "outputs": [],
   "source": [
    "# cv_mse = cross_val_score(rf, X, y, cv=5, scoring=\"neg_mean_squared_error\")\n",
    "# np.mean(cv_mse)"
   ]
  },
  {
   "cell_type": "code",
   "execution_count": 67,
   "id": "89105b07",
   "metadata": {},
   "outputs": [],
   "source": [
    "# cv_mse"
   ]
  },
  {
   "cell_type": "code",
   "execution_count": 68,
   "id": "dcc28518",
   "metadata": {},
   "outputs": [],
   "source": [
    "# cv_mae = cross_val_score(rf, X, y, cv=5, scoring=\"neg_mean_absolute_error\")\n",
    "# np.mean(cv_mae)"
   ]
  },
  {
   "cell_type": "code",
   "execution_count": 69,
   "id": "6b8e1cef",
   "metadata": {},
   "outputs": [],
   "source": [
    "# cv_mae"
   ]
  },
  {
   "cell_type": "code",
   "execution_count": 70,
   "id": "48db55d6",
   "metadata": {},
   "outputs": [],
   "source": [
    "# # Splitting into training and testing sets\n",
    "# np.random.seed(42)\n",
    "# X_train, X_test, y_train, y_test = train_test_split(X_standardized, y, test_size = 0.2)\n",
    "\n",
    "# # Build the Linear Regression Model on original dataset\n",
    "# # rf_std = RandomForestRegressor()\n",
    "\n",
    "# # Fit the Linear Regression Model\n",
    "# rf_std.fit(X_train, y_train)\n",
    "\n",
    "# # Using the model to make a prediction\n",
    "# y_pred_rf_std = rf_std.predict(X_test)\n",
    "\n",
    "# print(\"R-squared score is:\", r2_score(y_test, y_pred_rf_std))\n",
    "# print(\"Mean suqared error is:\", mean_squared_error(y_test, y_pred_rf_std))\n",
    "# print(\"Mean absolute error is:\",mean_absolute_error(y_test, y_pred_rf_std))"
   ]
  },
  {
   "cell_type": "markdown",
   "id": "91ce4188",
   "metadata": {},
   "source": [
    "## Support Vector Regression (SVR)"
   ]
  },
  {
   "cell_type": "markdown",
   "id": "967b0179",
   "metadata": {},
   "source": [
    "#### Fitting a 'Support Vector Regression (SVR)' model¶"
   ]
  },
  {
   "cell_type": "code",
   "execution_count": 71,
   "id": "76218834",
   "metadata": {},
   "outputs": [],
   "source": [
    "from sklearn.svm import SVR"
   ]
  },
  {
   "cell_type": "code",
   "execution_count": 72,
   "id": "de265d78",
   "metadata": {},
   "outputs": [],
   "source": [
    "# Splitting features(X) and target(y)\n",
    "X = df.drop(\"house_price\", axis = 1)\n",
    "y = df.house_price\n",
    "\n",
    "# Splitting into training and testing sets\n",
    "np.random.seed(42)\n",
    "X_train, X_test, y_train, y_test = train_test_split(X, y, test_size = 0.2)\n",
    "\n",
    "# Build the SVR Model\n",
    "svr = SVR(kernel = \"linear\")\n",
    "\n",
    "# Fit the model\n",
    "svr.fit(X_train, y_train)\n",
    "\n",
    "# Using the model to make a prediction\n",
    "y_pred_svr = svr.predict(X_test)"
   ]
  },
  {
   "cell_type": "code",
   "execution_count": 73,
   "id": "7ff25b83",
   "metadata": {},
   "outputs": [
    {
     "name": "stdout",
     "output_type": "stream",
     "text": [
      "The performance evaluation of the Support Vector Regression model are as follows:\n",
      "\n",
      "R-squared score is: 0.5525410985108303\n",
      "Mean suqared error is: 7506559099.713468\n",
      "Mean absolute error is: 67979.464328913\n"
     ]
    }
   ],
   "source": [
    "print(\"The performance evaluation of the Support Vector Regression model are as follows:\\n\")\n",
    "\n",
    "# Checking the R squared score of the model\n",
    "# (Best score: 1)\n",
    "print(\"R-squared score is:\", r2_score(y_test, y_pred_svr))\n",
    "\n",
    "# Checking the Mean Squared Error of the model (MSE)\n",
    "# (Best Value: 0.0)\n",
    "print(\"Mean suqared error is:\", mean_squared_error(y_test, y_pred_svr))\n",
    "\n",
    "# Checking the Mean Absolute Error (MAE), which shows the average difference between the prediction and the test\n",
    "# Best value: 0.0\n",
    "print(\"Mean absolute error is:\",mean_absolute_error(y_test, y_pred_svr))"
   ]
  },
  {
   "cell_type": "markdown",
   "id": "84f92a8a",
   "metadata": {},
   "source": [
    "#### Fitting the model and making predictions (Standardized data)"
   ]
  },
  {
   "cell_type": "code",
   "execution_count": 74,
   "id": "28aa387c",
   "metadata": {},
   "outputs": [],
   "source": [
    "# Splitting features(X) and target(y)\n",
    "X = df_std.drop(\"house_price\", axis = 1)\n",
    "y = df_std.house_price\n",
    "\n",
    "# Splitting into training and testing sets\n",
    "np.random.seed(42)\n",
    "X_train, X_test, y_train, y_test = train_test_split(X, y, test_size = 0.2)\n",
    "\n",
    "# Build the SVR Model\n",
    "svr_std = SVR(kernel = \"linear\")\n",
    "\n",
    "# Fit the model\n",
    "svr_std.fit(X_train, y_train)\n",
    "\n",
    "# Using the model to make a prediction\n",
    "y_pred_svr_std = svr_std.predict(X_test)"
   ]
  },
  {
   "cell_type": "code",
   "execution_count": 75,
   "id": "00223cb8",
   "metadata": {
    "scrolled": true
   },
   "outputs": [
    {
     "name": "stdout",
     "output_type": "stream",
     "text": [
      "The performance evaluation of the Support Vector Regression model on standardized data are as follows:\n",
      "\n",
      "R-squared score is: 0.6212217698486597\n",
      "Mean suqared error is: 0.3440574683159715\n",
      "Mean absolute error is: 0.44554253803931504\n"
     ]
    }
   ],
   "source": [
    "print(\"The performance evaluation of the Support Vector Regression model on standardized data are as follows:\\n\")\n",
    "\n",
    "# Checking the R squared score of the model\n",
    "# (Best score: 1)\n",
    "print(\"R-squared score is:\", r2_score(y_test, y_pred_svr_std))\n",
    "\n",
    "# Checking the Mean Squared Error of the model (MSE)\n",
    "# (Best Value: 0.0)\n",
    "print(\"Mean suqared error is:\", mean_squared_error(y_test, y_pred_svr_std))\n",
    "\n",
    "# Checking the Mean Absolute Error (MAE), which shows the average difference between the prediction and the test\n",
    "# Best value: 0.0\n",
    "print(\"Mean absolute error is:\",mean_absolute_error(y_test, y_pred_svr_std))"
   ]
  },
  {
   "cell_type": "markdown",
   "id": "179ae32d",
   "metadata": {},
   "source": [
    "#### Fitting the model and making predictions (Normalized data)"
   ]
  },
  {
   "cell_type": "code",
   "execution_count": 76,
   "id": "29525ed4",
   "metadata": {},
   "outputs": [],
   "source": [
    "# Splitting features(X) and target(y)\n",
    "X = df_norm.drop(\"house_price\", axis = 1)\n",
    "y = df_norm.house_price\n",
    "\n",
    "# Splitting into training and testing sets\n",
    "np.random.seed(42)\n",
    "X_train, X_test, y_train, y_test = train_test_split(X, y, test_size = 0.2)\n",
    "\n",
    "# Build the SVR Model\n",
    "svr_norm = SVR(kernel = \"linear\")\n",
    "\n",
    "# Fit the model\n",
    "svr_norm.fit(X_train, y_train)\n",
    "\n",
    "# Using the model to make a prediction\n",
    "y_pred_svr_norm = svr_norm.predict(X_test)"
   ]
  },
  {
   "cell_type": "code",
   "execution_count": 77,
   "id": "8db5733e",
   "metadata": {},
   "outputs": [
    {
     "name": "stdout",
     "output_type": "stream",
     "text": [
      "The performance evaluation of the Support Vector Regression model on normalized data are as follows:\n",
      "\n",
      "R-squared score is: 0.6036581747513462\n",
      "Mean suqared error is: 0.0055050627832236914\n",
      "Mean absolute error is: 0.05803200643356396\n"
     ]
    }
   ],
   "source": [
    "print(\"The performance evaluation of the Support Vector Regression model on normalized data are as follows:\\n\")\n",
    "\n",
    "# Checking the R squared score of the model\n",
    "# (Best score: 1)\n",
    "print(\"R-squared score is:\", r2_score(y_test, y_pred_svr_norm))\n",
    "\n",
    "# Checking the Mean Squared Error of the model (MSE)\n",
    "# (Best Value: 0.0)\n",
    "print(\"Mean suqared error is:\", mean_squared_error(y_test, y_pred_svr_norm))\n",
    "\n",
    "# Checking the Mean Absolute Error (MAE), which shows the average difference between the prediction and the test\n",
    "# Best value: 0.0\n",
    "print(\"Mean absolute error is:\",mean_absolute_error(y_test, y_pred_svr_norm))"
   ]
  },
  {
   "cell_type": "code",
   "execution_count": null,
   "id": "88eeca3a",
   "metadata": {},
   "outputs": [],
   "source": []
  },
  {
   "cell_type": "code",
   "execution_count": 78,
   "id": "451ccdae",
   "metadata": {
    "scrolled": true
   },
   "outputs": [],
   "source": [
    "# ===== DENORMALISE DATA WITH .inverse_transform()\n",
    "# min_max.inverse_transform(df_norm)\n"
   ]
  },
  {
   "cell_type": "markdown",
   "id": "6bbae0fc",
   "metadata": {},
   "source": [
    "## Ridge Regression\n",
    "Similar to linear regression"
   ]
  },
  {
   "cell_type": "code",
   "execution_count": 79,
   "id": "2eead751",
   "metadata": {},
   "outputs": [],
   "source": [
    "# from sklearn.linear_model import Ridge"
   ]
  },
  {
   "cell_type": "code",
   "execution_count": 80,
   "id": "73c3fbf5",
   "metadata": {},
   "outputs": [],
   "source": [
    "# # Splitting features(X) and target(y)\n",
    "# X = df.drop(\"house_price\", axis = 1)\n",
    "# y = df.house_price\n",
    "\n",
    "# # Splitting into training and testing sets\n",
    "# np.random.seed(42)\n",
    "# X_train, X_test, y_train, y_test = train_test_split(X, y, test_size = 0.2)\n",
    "\n",
    "# # Build the Ridge Model\n",
    "# rid = Ridge()\n",
    "\n",
    "# # Fit the model\n",
    "# rid.fit(X_train, y_train)\n",
    "\n",
    "# # Using the model to make a prediction\n",
    "# y_pred_rid = rid.predict(X_test)"
   ]
  },
  {
   "cell_type": "code",
   "execution_count": 81,
   "id": "213780c7",
   "metadata": {},
   "outputs": [],
   "source": [
    "# Checking if model works on new data i introduce.\n",
    "# xxx = np.array([4082.02,0,24.94155,121.50381])\n",
    "# xxx = xxx.reshape((1,-1))\n",
    "# rid.predict(xxx)"
   ]
  },
  {
   "cell_type": "markdown",
   "id": "0ab9adb7",
   "metadata": {},
   "source": [
    "#### Performance Evaluation"
   ]
  },
  {
   "cell_type": "code",
   "execution_count": 82,
   "id": "859478dc",
   "metadata": {
    "scrolled": true
   },
   "outputs": [],
   "source": [
    "# print(\"The performance evaluation of the Ridge Regression model are as follows:\\n\")\n",
    "\n",
    "# # Checking the R squared score of the model\n",
    "# # (Best score: 1)\n",
    "# print(\"R-squared score is:\", r2_score(y_test, y_pred_rid))\n",
    "\n",
    "# # Checking the Mean Squared Error of the model (MSE)\n",
    "# # (Best Value: 0.0)\n",
    "# print(\"Mean suqared error is:\", mean_squared_error(y_test, y_pred_rid))\n",
    "\n",
    "# # Checking the Mean Absolute Error (MAE), which shows the average difference between the prediction and the test\n",
    "# # Best value: 0.0\n",
    "# print(\"Mean absolute error is:\",mean_absolute_error(y_test, y_pred_rid))"
   ]
  },
  {
   "cell_type": "markdown",
   "id": "ab4480b3",
   "metadata": {},
   "source": [
    "## KNearestNeighbor"
   ]
  },
  {
   "cell_type": "code",
   "execution_count": 83,
   "id": "c4bf3121",
   "metadata": {},
   "outputs": [],
   "source": [
    "# KNearestNeighbour "
   ]
  },
  {
   "cell_type": "code",
   "execution_count": 84,
   "id": "987d540b",
   "metadata": {},
   "outputs": [],
   "source": [
    "# Visualising multi\n",
    "# dimension reduction technique\n",
    "# using coloours to represent the price\n",
    "# heatmap? low, medium, high price."
   ]
  },
  {
   "cell_type": "code",
   "execution_count": 85,
   "id": "6fbe86f4",
   "metadata": {},
   "outputs": [],
   "source": [
    "# Cross validation"
   ]
  },
  {
   "cell_type": "code",
   "execution_count": 86,
   "id": "3c53612e",
   "metadata": {},
   "outputs": [],
   "source": [
    "# Iterations"
   ]
  },
  {
   "cell_type": "code",
   "execution_count": 87,
   "id": "0ded6dd1",
   "metadata": {},
   "outputs": [],
   "source": [
    "# Wednesday's lab"
   ]
  },
  {
   "cell_type": "code",
   "execution_count": null,
   "id": "fa5892c9",
   "metadata": {},
   "outputs": [],
   "source": []
  }
 ],
 "metadata": {
  "kernelspec": {
   "display_name": "Python 3 (ipykernel)",
   "language": "python",
   "name": "python3"
  },
  "language_info": {
   "codemirror_mode": {
    "name": "ipython",
    "version": 3
   },
   "file_extension": ".py",
   "mimetype": "text/x-python",
   "name": "python",
   "nbconvert_exporter": "python",
   "pygments_lexer": "ipython3",
   "version": "3.9.2"
  }
 },
 "nbformat": 4,
 "nbformat_minor": 5
}
